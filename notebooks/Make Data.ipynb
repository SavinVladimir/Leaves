{
 "cells": [
  {
   "cell_type": "code",
   "execution_count": 1,
   "metadata": {},
   "outputs": [],
   "source": [
    "import pandas as pd"
   ]
  },
  {
   "cell_type": "code",
   "execution_count": 52,
   "metadata": {},
   "outputs": [],
   "source": [
    "table = {'id': [1,2,3,4,5,6,7,8,9,10,11,12,13,14,15,16,17,18,19,20,21,22,23,24,25,26,27,28,29,30,31,32,33,34,35,36,37,38,39,40,41,42,43,44,45,46,47,48,49,50,51,52,53,54,55,56,57,58,59,60,61,62,63,64,65,66,67,68,69,70,71,72,73,74,75,76,77,78,79,80,81,82,83,84,85,86,87,88,89,90,91,92,93,94,95,96,97,98,99,100],\n",
    "         'length': [5.5, 7.5, 6.5, 6, 5, 6, 5.5, 6, 7.5, 7,\n",
    "                    6, 7, 6.5, 6.5, 5, 3, 4.5, 5, 6.5, 5,\n",
    "                    8, 6.5, 8, 9, 8.5, 6, 6.5, 6, 6.5, 5,\n",
    "                    9, 7.5, 9, 7, 6.5, 6, 3.5, 7, 6.5, 5.5, \n",
    "                    7.5, 8, 4.5, 4.5, 5, 5.5, 5.5, 5, 7, 6,\n",
    "                    7, 8.5, 7.5, 8.5, 10, 8, 7, 4.5, 5.5, 5,\n",
    "                    8, 3.5, 5.5, 5.5, 4.5, 10, 8, 7 ,6, 10.5,\n",
    "                    2.5, 4, 3.5, 4, 8, 7.5, 5.5, 6.5, 4.5, 6.5,\n",
    "                    6.5, 5.5, 6.5, 5, 4.5, 7.5, 5.5, 3.5, 5.5, 5,\n",
    "                    7, 4.5, 6, 7.5, 8, 9, 6.5, 5.5, 7, 7.5],\n",
    "         \n",
    "         'width': [3, 2.5, 2.5, 3, 2, 2.5, 3, 2.5, 3, 2,\n",
    "                   2.5, 3, 2, 2.5, 2.5, 2.5, 2, 2, 3, 2,\n",
    "                   3.5, 2.5, 5, 3.5, 3, 2, 3, 2, 2, 2.5,\n",
    "                   3, 2.5, 2.5, 2.5, 3.5, 2, 2, 2.5, 2, 2.5,\n",
    "                   4, 3, 2.5, 2, 2.5, 2.5, 3, 2.5, 2, 2.5,\n",
    "                   3, 2.5, 3.5, 2.5, 3.5, 3.5, 2, 2, 2, 2,\n",
    "                   3, 2.5, 2.5, 2, 2, 3.5, 3, 3, 3, 3,\n",
    "                   1.5, 2.5, 2, 2, 3, 2.5, 3, 2.5, 2, 3.5,\n",
    "                   2.5, 3, 3, 2, 2, 3, 2.5, 2, 3, 3,\n",
    "                   2.5, 1.5, 3, 4, 3, 3, 3, 2.5, 2.5, 3]}"
   ]
  },
  {
   "cell_type": "code",
   "execution_count": 53,
   "metadata": {},
   "outputs": [],
   "source": [
    "data = pd.DataFrame(table)"
   ]
  },
  {
   "cell_type": "code",
   "execution_count": 54,
   "metadata": {},
   "outputs": [
    {
     "data": {
      "text/html": [
       "<div>\n",
       "<style scoped>\n",
       "    .dataframe tbody tr th:only-of-type {\n",
       "        vertical-align: middle;\n",
       "    }\n",
       "\n",
       "    .dataframe tbody tr th {\n",
       "        vertical-align: top;\n",
       "    }\n",
       "\n",
       "    .dataframe thead th {\n",
       "        text-align: right;\n",
       "    }\n",
       "</style>\n",
       "<table border=\"1\" class=\"dataframe\">\n",
       "  <thead>\n",
       "    <tr style=\"text-align: right;\">\n",
       "      <th></th>\n",
       "      <th>id</th>\n",
       "      <th>length</th>\n",
       "      <th>width</th>\n",
       "    </tr>\n",
       "  </thead>\n",
       "  <tbody>\n",
       "    <tr>\n",
       "      <th>0</th>\n",
       "      <td>1</td>\n",
       "      <td>5.5</td>\n",
       "      <td>3.0</td>\n",
       "    </tr>\n",
       "    <tr>\n",
       "      <th>1</th>\n",
       "      <td>2</td>\n",
       "      <td>7.5</td>\n",
       "      <td>2.5</td>\n",
       "    </tr>\n",
       "    <tr>\n",
       "      <th>2</th>\n",
       "      <td>3</td>\n",
       "      <td>6.5</td>\n",
       "      <td>2.5</td>\n",
       "    </tr>\n",
       "    <tr>\n",
       "      <th>3</th>\n",
       "      <td>4</td>\n",
       "      <td>6.0</td>\n",
       "      <td>3.0</td>\n",
       "    </tr>\n",
       "    <tr>\n",
       "      <th>4</th>\n",
       "      <td>5</td>\n",
       "      <td>5.0</td>\n",
       "      <td>2.0</td>\n",
       "    </tr>\n",
       "    <tr>\n",
       "      <th>...</th>\n",
       "      <td>...</td>\n",
       "      <td>...</td>\n",
       "      <td>...</td>\n",
       "    </tr>\n",
       "    <tr>\n",
       "      <th>95</th>\n",
       "      <td>96</td>\n",
       "      <td>9.0</td>\n",
       "      <td>3.0</td>\n",
       "    </tr>\n",
       "    <tr>\n",
       "      <th>96</th>\n",
       "      <td>97</td>\n",
       "      <td>6.5</td>\n",
       "      <td>3.0</td>\n",
       "    </tr>\n",
       "    <tr>\n",
       "      <th>97</th>\n",
       "      <td>98</td>\n",
       "      <td>5.5</td>\n",
       "      <td>2.5</td>\n",
       "    </tr>\n",
       "    <tr>\n",
       "      <th>98</th>\n",
       "      <td>99</td>\n",
       "      <td>7.0</td>\n",
       "      <td>2.5</td>\n",
       "    </tr>\n",
       "    <tr>\n",
       "      <th>99</th>\n",
       "      <td>100</td>\n",
       "      <td>7.5</td>\n",
       "      <td>3.0</td>\n",
       "    </tr>\n",
       "  </tbody>\n",
       "</table>\n",
       "<p>100 rows × 3 columns</p>\n",
       "</div>"
      ],
      "text/plain": [
       "     id  length  width\n",
       "0     1     5.5    3.0\n",
       "1     2     7.5    2.5\n",
       "2     3     6.5    2.5\n",
       "3     4     6.0    3.0\n",
       "4     5     5.0    2.0\n",
       "..  ...     ...    ...\n",
       "95   96     9.0    3.0\n",
       "96   97     6.5    3.0\n",
       "97   98     5.5    2.5\n",
       "98   99     7.0    2.5\n",
       "99  100     7.5    3.0\n",
       "\n",
       "[100 rows x 3 columns]"
      ]
     },
     "execution_count": 54,
     "metadata": {},
     "output_type": "execute_result"
    }
   ],
   "source": [
    "data"
   ]
  },
  {
   "cell_type": "code",
   "execution_count": 55,
   "metadata": {},
   "outputs": [],
   "source": [
    "compression_opts = dict(method='zip',\n",
    "                        archive_name='out.csv')  \n"
   ]
  },
  {
   "cell_type": "code",
   "execution_count": 56,
   "metadata": {},
   "outputs": [],
   "source": [
    "data.to_csv('out.zip', index=False,\n",
    "          compression=compression_opts)  "
   ]
  },
  {
   "cell_type": "code",
   "execution_count": null,
   "metadata": {},
   "outputs": [],
   "source": []
  },
  {
   "cell_type": "code",
   "execution_count": null,
   "metadata": {},
   "outputs": [],
   "source": []
  }
 ],
 "metadata": {
  "kernelspec": {
   "display_name": "Python 3",
   "language": "python",
   "name": "python3"
  },
  "language_info": {
   "codemirror_mode": {
    "name": "ipython",
    "version": 3
   },
   "file_extension": ".py",
   "mimetype": "text/x-python",
   "name": "python",
   "nbconvert_exporter": "python",
   "pygments_lexer": "ipython3",
   "version": "3.8.3"
  }
 },
 "nbformat": 4,
 "nbformat_minor": 1
}